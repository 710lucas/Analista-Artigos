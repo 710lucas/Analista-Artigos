{
  "cells": [
    {
      "cell_type": "code",
      "execution_count": null,
      "id": "c57d04f9",
      "metadata": {
        "collapsed": true,
        "id": "c57d04f9",
        "cellView": "form"
      },
      "outputs": [],
      "source": [
        "#@title Instalação\n",
        "\n",
        "#%pip uninstall crewai pdfminer.six pdfplumber -y\n",
        "%pip install crewai pdfminer.six pdfplumber"
      ]
    },
    {
      "cell_type": "code",
      "execution_count": null,
      "id": "c3d2cc42",
      "metadata": {
        "id": "c3d2cc42",
        "cellView": "form",
        "collapsed": true
      },
      "outputs": [],
      "source": [
        "#@title Configuração inicial\n",
        "from crewai import Agent, Task, Crew, LLM\n",
        "from pydantic import BaseModel\n",
        "import os\n",
        "\n",
        "api_key = os.getenv(\"API_KEY\")\n",
        "model_name = os.getenv(\"MODEL_NAME\")\n",
        "\n",
        "llm = LLM(model=model_name, api_key=api_key)"
      ]
    },
    {
      "cell_type": "code",
      "execution_count": null,
      "id": "ead16abe",
      "metadata": {
        "id": "ead16abe",
        "cellView": "form"
      },
      "outputs": [],
      "source": [
        "#@title Criação de agentes e tasks\n",
        "\n",
        "analista = Agent(\n",
        "    name='Analista de artigos cientificos',\n",
        "    goal=\"\"\"\n",
        "        Você é um especialista em análise de artigos científicos.\n",
        "\n",
        "        Sua tarefa é analisar uma parte especifica de um artigo, somente ela.\n",
        "\n",
        "        Você deve fornecer dados e/ou uma analise sobre a parte do artigo que foi solicitada.\n",
        "\n",
        "        Além da parte do artigo, você pode também receber instruções adicionais relacionadas ao artigo, que devem ser seguidas.\n",
        "\n",
        "        Como resposta, retorne um nome simples para o que foi analisado, e o conteudo da análise. (exemplo: \"Introdução\" : \"A introdução do artigo apresenta...\")\n",
        "\n",
        "        A solicitação de analise é a seguinte (analise o artigo baseado na parte solicitada):\n",
        "        {solicitacao}\n",
        "\n",
        "        O artigo que você deve analisar é o seguinte:\n",
        "        {conteudo_artigo}\n",
        "    \"\"\",\n",
        "    backstory=\"\"\"\n",
        "        Você é um analista de artigos científicos, especializado em analisar partes específicas de artigos.\n",
        "        Você deve fornecer uma análise detalhada e precisa com base na parte do artigo que foi solicitada.\n",
        "\n",
        "        Você deve analisar somente o que foi solicitado.\n",
        "        Se houver instruções adicionais, você deve segui-las.\n",
        "    \"\"\",\n",
        "    llm=llm,\n",
        "    role='analista',\n",
        ")\n",
        "\n",
        "class AnaliseOutput(BaseModel):\n",
        "    nome: str\n",
        "    conteudo: str\n",
        "\n",
        "analistaTask = Task(\n",
        "    name='Analise de artigo',\n",
        "    description='Analisa uma parte específica de um artigo científico.',\n",
        "    agent=analista,\n",
        "    output_json=AnaliseOutput,\n",
        "    expected_output=\"A análise deve conter um nome simples e o conteúdo da análise. o conteúdo deve ser um texto simples, em markdown se possível\",\n",
        "    inputs=['conteudo_artigo', 'solicitacao']\n",
        ")\n",
        "\n",
        "crewAnalise = Crew(\n",
        "    name='Analise de artigo',\n",
        "    agents=[analista],\n",
        "    tasks=[analistaTask],\n",
        "    llm=llm,\n",
        ")"
      ]
    },
    {
      "cell_type": "code",
      "execution_count": null,
      "id": "9d6e7e4a",
      "metadata": {
        "id": "9d6e7e4a",
        "cellView": "form"
      },
      "outputs": [],
      "source": [
        "#@title Extração de texto de PDF\n",
        "\n",
        "from pdfminer.high_level import extract_text\n",
        "import os\n",
        "\n",
        "def extrair_texto(caminho_pdf : str):\n",
        "    return extract_text(caminho_pdf)\n",
        "\n",
        "def listar_pdfs(pasta=\"./\"):\n",
        "    return [f for f in os.listdir(pasta) if f.lower().endswith(\".pdf\")]"
      ]
    },
    {
      "cell_type": "markdown",
      "id": "cb1ff484",
      "metadata": {
        "id": "cb1ff484"
      },
      "source": [
        "# Boas vindas ao analisador de artigos!\n",
        "\n",
        "Escolha sua opção:\n",
        "\n",
        "  1. Analise simples (tema central, objetivos, metodologia, resultados, conclusao, resumo, palavras chaves).\n",
        "\n",
        "  2. Analise customizada (escolha as seções que deseja analisar).\n",
        "\n",
        "  3. Analise simples + customizada (seções padrão + seções customizadas).\n",
        "\n",
        "  0. Sair"
      ]
    },
    {
      "cell_type": "code",
      "execution_count": null,
      "id": "22952109",
      "metadata": {
        "id": "22952109",
        "cellView": "form"
      },
      "outputs": [],
      "source": [
        "#@title Código principal\n",
        "\n",
        "secoes_para_analisar = []\n",
        "\n",
        "print(\"\"\"\n",
        "Boas vindas ao analisador de artigos.\n",
        "\n",
        "Escolha sua opção:\n",
        "      1. Analise simples (tema central, objetivos, metodologia, resultados, conclusao, resumo, palavras chaves).\n",
        "      2. Analise customizada (escolha as seções que deseja analisar).\n",
        "      3. Analise simples + customizada (seções padrão + seções customizadas).\n",
        "\n",
        "      0. Sair\n",
        "\"\"\")\n",
        "\n",
        "escolha = input(\"Digite o número da opção desejada: \")\n",
        "\n",
        "secoes_padrao = [\n",
        "    \"Tema central: Assunto e problema abordado\",\n",
        "    \"Objetivos: O que o autor pretende investigar, demonstrar ou dicutir\",\n",
        "    \"Metodologia: Quais metodos foram usados e como os dados foram coletados\",\n",
        "    \"Resultados: Principais descobertas e conclusões\",\n",
        "    \"Conclusões: Quais são as implicações do resultado, o autor responde a pergunta da pesquisa?\",\n",
        "    \"Resumo: Resumo geral sobre o artigo\",\n",
        "    \"Palavras chave: Principais termos e conceitos abordados no artigo, divida em estrutura de palavras chave\",\n",
        "]\n",
        "\n",
        "if escolha == '1':\n",
        "    secoes_para_analisar = secoes_padrao.copy()\n",
        "elif escolha == '2' or escolha == '3':\n",
        "    if(escolha == '3'):\n",
        "        secoes_para_analisar = secoes_padrao.copy()\n",
        "    print(\"\"\"\n",
        "        Para uma analise customizada, é necessário que seja informado o que você deseja analisar.\n",
        "        Escreva textos diretos sobre o que você deseja analisar, por exemplo:\n",
        "        - Tema central: Assunto e problema abordado\n",
        "        - Objetivos: O que o autor pretende investigar, demonstrar ou discutir\n",
        "          ...\n",
        "\n",
        "        Você pode também pedir analises mais específicas, como:\n",
        "            - Quais são os vieses cognitivos abordados no artigo?\n",
        "            - Quais são os principais argumentos apresentados?\n",
        "            - Quais áreas de computação são discutidas no artigo?\n",
        "\n",
        "        Escreva quantas seções você quiser analisar.\n",
        "        Quando ja tiver terminado, digite 'FIM' para finalizar a entrada.\n",
        "\n",
        "        Instruções:\n",
        "            - Cada seção deve ser escrita em uma linha separada.\n",
        "            - Após escrever uma seção, pressione Enter para adicionar a próxima.\n",
        "            - Quando terminar, digite 'FIM' e pressione Enter.\n",
        "    \"\"\")\n",
        "    while True:\n",
        "        secao = input(\"Digite a seção que deseja analisar (ou 'FIM' para finalizar): \")\n",
        "        if secao.strip().upper() == 'FIM':\n",
        "            break\n",
        "        secoes_para_analisar.append(secao.strip())\n",
        "\n",
        "\n",
        "analises = []\n",
        "for pdf in listar_pdfs():\n",
        "    print(f\"Analisando: {pdf}\")\n",
        "    conteudo_artigo = extrair_texto(pdf)\n",
        "    analises_artigo = []\n",
        "    for secao in secoes_para_analisar:\n",
        "        print(f\"Analisando seção: {secao}\")\n",
        "        analise = crewAnalise.kickoff({'conteudo_artigo': conteudo_artigo, 'solicitacao': secao})\n",
        "        analises_artigo.append(analise)\n",
        "\n",
        "    print(f\"Análise concluída para: {pdf}\")\n",
        "    with open(f'analise_{pdf}.md', 'w') as f:\n",
        "        for analise in analises_artigo:\n",
        "            f.write(f\"# {analise['nome']}:\\n{analise['conteudo']}\\n---\\n\\n\")\n",
        "    print('\\n\\n')"
      ]
    },
    {
      "cell_type": "markdown",
      "source": [],
      "metadata": {
        "id": "w99_C-Wgw7gx"
      },
      "id": "w99_C-Wgw7gx"
    }
  ],
  "metadata": {
    "kernelspec": {
      "display_name": ".venv",
      "language": "python",
      "name": "python3"
    },
    "language_info": {
      "codemirror_mode": {
        "name": "ipython",
        "version": 3
      },
      "file_extension": ".py",
      "mimetype": "text/x-python",
      "name": "python",
      "nbconvert_exporter": "python",
      "pygments_lexer": "ipython3",
      "version": "3.12.11"
    },
    "colab": {
      "provenance": []
    }
  },
  "nbformat": 4,
  "nbformat_minor": 5
}